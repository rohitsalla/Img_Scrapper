{
 "cells": [
  {
   "cell_type": "code",
   "execution_count": 1,
   "id": "e5909910-dd2e-4d7c-acf0-15f68b9f7b66",
   "metadata": {},
   "outputs": [],
   "source": [
    "import requests\n",
    "import logging\n",
    "import os\n",
    "from bs4 import BeautifulSoup\n",
    "from urllib.request import urlopen"
   ]
  },
  {
   "cell_type": "code",
   "execution_count": 2,
   "id": "6366e103-ac7f-4596-8b71-4843baf339f9",
   "metadata": {},
   "outputs": [],
   "source": [
    "save_dir = \"images/\"\n",
    "if not os.path.exists(save_dir):\n",
    "    os.makedirs(save_dir)\n",
    "    "
   ]
  },
  {
   "cell_type": "code",
   "execution_count": 43,
   "id": "68272b6f-460b-486f-8606-b664b24f1353",
   "metadata": {},
   "outputs": [],
   "source": [
    "query = \"virat kohli\"\n",
    "#url = https://www.google.com/search?q={query}&tbm=isch&source=lnms&sa=X&ved=2ahUKEwjA1_CgyrWAAxXpa2wGHS81ARIQ0pQJegQIDBAB&biw=614&bih=836&dpr=1.25"
   ]
  },
  {
   "cell_type": "code",
   "execution_count": 44,
   "id": "b7d248ca-c72a-41ec-a4db-e02861d48d98",
   "metadata": {},
   "outputs": [],
   "source": [
    "response = requests.get(f\"https://www.google.com/search?q={query}&tbm=isch&source=lnms&sa=X&ved=2ahUKEwjA1_CgyrWAAxXpa2wGHS81ARIQ0pQJegQIDBAB&biw=614&bih=836&dpr=1.25\")"
   ]
  },
  {
   "cell_type": "code",
   "execution_count": 45,
   "id": "15ed3b19-0ad7-454e-96b5-d4c0c9da848a",
   "metadata": {},
   "outputs": [
    {
     "data": {
      "text/plain": [
       "<Response [200]>"
      ]
     },
     "execution_count": 45,
     "metadata": {},
     "output_type": "execute_result"
    }
   ],
   "source": [
    "response"
   ]
  },
  {
   "cell_type": "code",
   "execution_count": 46,
   "id": "74bdfe26-17d9-4cea-bcdd-c1d856f86880",
   "metadata": {},
   "outputs": [],
   "source": [
    "soup = BeautifulSoup(response.content,\"html.parser\")"
   ]
  },
  {
   "cell_type": "code",
   "execution_count": 47,
   "id": "fd9ac563-34be-4a8a-b3e9-1ac0b67ad70b",
   "metadata": {},
   "outputs": [
    {
     "data": {
      "text/plain": [
       "<!DOCTYPE html PUBLIC \"-//WAPFORUM//DTD XHTML Mobile 1.0//EN\" \"http://www.wapforum.org/DTD/xhtml-mobile10.dtd\">\n",
       "<html lang=\"en-IN\" xmlns=\"http://www.w3.org/1999/xhtml\"><head><meta content=\"application/xhtml+xml; charset=utf-8\" http-equiv=\"Content-Type\"/><meta content=\"no-cache\" name=\"Cache-Control\"/><title>virat kohli - Google Search</title><style>a{text-decoration:none;color:inherit}a:hover{text-decoration:underline}a img{border:0}body{font-family:arial,sans-serif;padding:8px;margin:0 auto;max-width:700px;min-width:240px;}.FbhRzb{border-left:thin solid #dadce0;border-right:thin solid #dadce0;border-top:thin solid #dadce0;height:40px;overflow:hidden}.n692Zd{margin-bottom:10px}.cvifge{height:40px;border-spacing:0}.QvGUP{height:40px;padding:0 8px 0 8px;vertical-align:top}.O4cRJf{height:40px;width:100%;padding:0;padding-right:16px}.O1ePr{height:40px;padding:0;vertical-align:top}.kgJEQe{height:36px;width:98px;vertical-align:top;margin-top:4px}.lXLRf{vertical-align:top}.MhzMZd{border:0;vertical-align:middle;font-size:14px;height:40px;padding:0;width:100%;padding-left:16px}.xB0fq{height:40px;border:none;font-size:14px;background-color:#1a73e8;color:#fff;padding:0 16px;margin:0;vertical-align:top;cursor:pointer}.xB0fq:focus{border:1px solid #1a73e8}.M7pB2{border:thin solid #dadce0;margin:0 0 3px 0;font-size:13px;font-weight:500;height:40px}.euZec{width:100%;height:40px;text-align:center;border-spacing:0}table.euZec td{padding:0;width:25%}.QIqI7{display:inline-block;padding-top:4px;font-weight:bold;color:#4285f4}.EY24We{border-bottom:2px solid #4285f4}.CsQyDc{display:inline-block;color:#70757a}.TuS8Ad{font-size:14px}.HddGcc{padding:8px;color:#70757a}.dzp8ae{font-weight:bold;color:#3c4043}.rEM8G{color:#70757a}.bookcf{table-layout:fixed;width:100%;border-spacing:0}.InWNIe{text-align:center}.uZgmoc{border:thin solid #dadce0;color:#70757a;font-size:14px;text-align:center;table-layout:fixed;width:100%}.frGj1b{display:block;padding:12px 0 12px 0;width:100%}.BnJWBc{text-align:center;padding:6px 0 13px 0;height:35px}.e3goi{vertical-align:top;padding:0;height:180px}.GpQGbf{margin:auto;border-collapse:collapse;border-spacing:0;width:100%}</style></head><body><style>.X6ZCif{color:#202124;font-size:11px;line-height:16px;display:inline-block;padding-top:2px;overflow:hidden;padding-bottom:4px;width:100%}.TwVfHd{border-radius:16px;border:thin solid #dadce0;display:inline-block;padding:8px 8px;margin-right:8px;margin-bottom:4px}.yekiAe{background-color:#dadce0}.mnTahd{width:100%}.ezO2md{border:thin solid #dadce0;padding:12px 16px 12px 16px;margin-bottom:10px;font-family:arial,sans-serif}.lIMUZd{font-family:arial,sans-serif}.IkMU6e{border-spacing:0}.SjCsie{width:100%}.EnarA{text-align:center}.NZWO1b{width:162px;height:140px;line-height:140px;overflow:'hidden';text-align:center}.yWs4tf{text-align:center;margin:auto;vertical-align:middle;max-width:162px;max-height:140px}.jB2rPd{padding-top:2px;padding-bottom:8px;}.fYyStc{word-break:break-word}.ynsChf{display:block;white-space:nowrap;overflow:hidden;text-overflow:ellipsis}.Fj3V3b{color:#1967d2;font-size:14px;line-height:20px}.FrIlee{color:#202124;font-size:11px;line-height:16px}.F9iS2e{color:#70757a;font-size:11px;line-height:16px}.WMQ2Le{color:#70757a;font-size:12px;line-height:16px}.x3G5ab{color:#202124;font-size:12px;line-height:16px}.fuLhoc{color:#1967d2;font-size:16px;line-height:20px}.epoveb{font-size:24px;line-height:28px;font-weight:400;color:#202124}.dXDvrc{color:#0d652d;font-size:14px;line-height:20px;word-wrap:break-word}.dloBPe{font-weight:bold}.YVIcad{color:#70757a}.JkVVdd{color:#ea4335}.oXZRFd{color:#ea4335}.MQHtg{color:#fbbc04}.pyMRrb{color:#1e8e3e}.EtTZid{color:#1e8e3e}.M3vVJe{color:#1967d2}.qXLe6d{display:block}.NHQNef{font-style:italic}.Cb8Z7c{white-space:pre}a.ZWRArf{text-decoration:none}a .CVA68e:hover{text-decoration:underline}</style><div class=\"n692Zd\"><div class=\"BnJWBc\"><a class=\"lXLRf\" href=\"/?sa=X&amp;biw=614&amp;bih=836&amp;output=images&amp;ie=UTF-8&amp;tbm=isch&amp;ved=0ahUKEwjJ1PLM0rWAAxWogFYBHa__Dt0QPAgC\"><img alt=\"Google\" class=\"kgJEQe\" src=\"/images/branding/searchlogo/1x/googlelogo_desk_heirloom_color_150x55dp.gif\"/></a></div><div class=\"FbhRzb\"><form action=\"/search\"><input name=\"biw\" type=\"hidden\" value=\"614\"/><input name=\"bih\" type=\"hidden\" value=\"836\"/><input name=\"ie\" type=\"hidden\" value=\"ISO-8859-1\"/><input name=\"tbm\" type=\"hidden\" value=\"isch\"/><input name=\"oq\" type=\"hidden\"/><input name=\"aqs\" type=\"hidden\"/><table class=\"cvifge\"><tr><td class=\"O4cRJf\"><input class=\"MhzMZd\" name=\"q\" type=\"text\" value=\"virat kohli\"/></td><td class=\"O1ePr\"><input class=\"xB0fq\" type=\"submit\" value=\"Search\"/></td></tr></table></form></div><div class=\"M7pB2\"><table class=\"euZec\"><tbody><tr><td><a class=\"CsQyDc\" href=\"/search?q=virat+kohli&amp;biw=614&amp;bih=836&amp;ie=UTF-8&amp;source=lnms&amp;sa=X&amp;ved=0ahUKEwjJ1PLM0rWAAxWogFYBHa__Dt0Q_AUIBCgA\">ALL</a></td><td><a class=\"CsQyDc\" href=\"/search?q=virat+kohli&amp;biw=614&amp;bih=836&amp;ie=UTF-8&amp;tbm=nws&amp;source=lnms&amp;sa=X&amp;ved=0ahUKEwjJ1PLM0rWAAxWogFYBHa__Dt0Q_AUIBSgB\">NEWS</a></td><td class=\"EY24We\"><span class=\"QIqI7\">IMAGES</span></td><td><a class=\"CsQyDc\" href=\"/search?q=virat+kohli&amp;biw=614&amp;bih=836&amp;ie=UTF-8&amp;tbm=vid&amp;source=lnms&amp;sa=X&amp;ved=0ahUKEwjJ1PLM0rWAAxWogFYBHa__Dt0Q_AUIBygD\">VIDEOS</a></td></tr></tbody></table></div></div><div class=\"X6ZCif\"><a class=\"TwVfHd\" href=\"/search?biw=614&amp;bih=836&amp;ie=UTF-8&amp;tbm=isch&amp;q=virat+kohli&amp;chips=q:virat+kohli,g_1:wallpaper&amp;sa=X&amp;ved=0ahUKEwjJ1PLM0rWAAxWogFYBHa__Dt0Q4lYICygA\">wallpaper</a><a class=\"TwVfHd\" href=\"/search?biw=614&amp;bih=836&amp;ie=UTF-8&amp;tbm=isch&amp;q=virat+kohli&amp;chips=q:virat+kohli,g_1:hairstyle&amp;sa=X&amp;ved=0ahUKEwjJ1PLM0rWAAxWogFYBHa__Dt0Q4lYIDCgB\">hairstyle</a><a class=\"TwVfHd\" href=\"/search?biw=614&amp;bih=836&amp;ie=UTF-8&amp;tbm=isch&amp;q=virat+kohli&amp;chips=q:virat+kohli,g_1:style&amp;sa=X&amp;ved=0ahUKEwjJ1PLM0rWAAxWogFYBHa__Dt0Q4lYIDSgC\">style</a><a class=\"TwVfHd\" href=\"/search?biw=614&amp;bih=836&amp;ie=UTF-8&amp;tbm=isch&amp;q=virat+kohli&amp;chips=q:virat+kohli,g_1:wedding&amp;sa=X&amp;ved=0ahUKEwjJ1PLM0rWAAxWogFYBHa__Dt0Q4lYIDigD\">wedding</a><a class=\"TwVfHd\" href=\"/search?biw=614&amp;bih=836&amp;ie=UTF-8&amp;tbm=isch&amp;q=virat+kohli&amp;chips=q:virat+kohli,g_1:new+look&amp;sa=X&amp;ved=0ahUKEwjJ1PLM0rWAAxWogFYBHa__Dt0Q4lYIDygE\">new look</a><a class=\"TwVfHd\" href=\"/search?biw=614&amp;bih=836&amp;ie=UTF-8&amp;tbm=isch&amp;q=virat+kohli&amp;chips=q:virat+kohli,g_1:captain&amp;sa=X&amp;ved=0ahUKEwjJ1PLM0rWAAxWogFYBHa__Dt0Q4lYIECgF\">captain</a><a class=\"TwVfHd\" href=\"/search?biw=614&amp;bih=836&amp;ie=UTF-8&amp;tbm=isch&amp;q=virat+kohli&amp;chips=q:virat+kohli,g_1:tattoo&amp;sa=X&amp;ved=0ahUKEwjJ1PLM0rWAAxWogFYBHa__Dt0Q4lYIESgG\">tattoo</a><a class=\"TwVfHd\" href=\"/search?biw=614&amp;bih=836&amp;ie=UTF-8&amp;tbm=isch&amp;q=virat+kohli&amp;chips=q:virat+kohli,g_1:century&amp;sa=X&amp;ved=0ahUKEwjJ1PLM0rWAAxWogFYBHa__Dt0Q4lYIEigH\">century</a><a class=\"TwVfHd\" href=\"/search?biw=614&amp;bih=836&amp;ie=UTF-8&amp;tbm=isch&amp;q=virat+kohli&amp;chips=q:virat+kohli,g_1:sketch&amp;sa=X&amp;ved=0ahUKEwjJ1PLM0rWAAxWogFYBHa__Dt0Q4lYIEygI\">sketch</a><a class=\"TwVfHd\" href=\"/search?biw=614&amp;bih=836&amp;ie=UTF-8&amp;tbm=isch&amp;q=virat+kohli&amp;chips=q:virat+kohli,g_1:rohit+sharma&amp;sa=X&amp;ved=0ahUKEwjJ1PLM0rWAAxWogFYBHa__Dt0Q4lYIFCgJ\">rohit sharma</a></div><div><table class=\"GpQGbf\"><tr><td align=\"center\" class=\"e3goi\"><div class=\"mnTahd\"> <div> <div class=\"lIMUZd\"><div><table class=\"IkMU6e\"><tr><td><a href=\"/url?q=https://en.wikipedia.org/wiki/Virat_Kohli&amp;sa=U&amp;ved=2ahUKEwjJ1PLM0rWAAxWogFYBHa__Dt0QqoUBegQIBhAB&amp;usg=AOvVaw3xM5mcM3RRyBLHy1ntAkN0\"><div class=\"NZWO1b\"><img alt=\"\" class=\"yWs4tf\" src=\"https://encrypted-tbn0.gstatic.com/images?q=tbn:ANd9GcSApOD8cC7Jh33c0VqbcFkcmx0og9wr1DYsD50a8Tp3p-0I33M_SuuLXA0Kizk&amp;s\"/></div></a></td></tr><tr><td><a href=\"/url?q=https://en.wikipedia.org/wiki/Virat_Kohli&amp;sa=U&amp;ved=2ahUKEwjJ1PLM0rWAAxWogFYBHa__Dt0Qr4kDegQIBhAC&amp;usg=AOvVaw0J2pe2wrF68hzZMGHsHAYo\"><div class=\"jB2rPd\"> <span class=\"qXLe6d x3G5ab\"> <span class=\"fYyStc\">Virat Kohli - Wikipedia</span> </span> <span class=\"qXLe6d F9iS2e\"> <span class=\"fYyStc\">en.wikipedia.org</span> </span> </div></a></td></tr></table></div></div> </div> </div></td><td align=\"center\" class=\"e3goi\"><div class=\"mnTahd\"> <div> <div class=\"lIMUZd\"><div><table class=\"IkMU6e\"><tr><td><a href=\"/url?q=https://m.timesofindia.com/sports/cricket/india-in-west-indies/virat-kohli-can-score-as-quickly-as-guys-you-call-six-hitters-curtly-ambrose/articleshow/102223510.cms&amp;sa=U&amp;ved=2ahUKEwjJ1PLM0rWAAxWogFYBHa__Dt0QqoUBegQIExAB&amp;usg=AOvVaw2JHhqLqsDh18dDFxQLO3n-\"><div class=\"NZWO1b\"><img alt=\"\" class=\"yWs4tf\" src=\"https://encrypted-tbn0.gstatic.com/images?q=tbn:ANd9GcS9C58BNcMmQwtKOOVPr2QxPHvO0WyNIRF5XejM_bsxPzCH1IyGGEB2t2o2tlg&amp;s\"/></div></a></td></tr><tr><td><a href=\"/url?q=https://m.timesofindia.com/sports/cricket/india-in-west-indies/virat-kohli-can-score-as-quickly-as-guys-you-call-six-hitters-curtly-ambrose/articleshow/102223510.cms&amp;sa=U&amp;ved=2ahUKEwjJ1PLM0rWAAxWogFYBHa__Dt0Qr4kDegQIExAC&amp;usg=AOvVaw364LA1DhWBQvcgaBfrxVUm\"><div class=\"jB2rPd\"> <span class=\"qXLe6d x3G5ab\"> <span class=\"fYyStc\">Virat Kohli can score as...</span> </span> <span class=\"qXLe6d F9iS2e\"> <span class=\"fYyStc\">m.timesofindia.com</span> </span> </div></a></td></tr></table></div></div> </div> </div></td><td align=\"center\" class=\"e3goi\"><div class=\"mnTahd\"> <div> <div class=\"lIMUZd\"><div><table class=\"IkMU6e\"><tr><td><a href=\"/url?q=https://m.timesofindia.com/sports/cricket/india-in-west-indies/india-vs-west-indies-irked-rohit-sharma-dismisses-concern-over-virat-kohlis-overseas-test-form-as-outside-talks/articleshow/102161934.cms&amp;sa=U&amp;ved=2ahUKEwjJ1PLM0rWAAxWogFYBHa__Dt0QqoUBegQIEhAB&amp;usg=AOvVaw2iFEumfblBl-g2Oq6s2ERj\"><div class=\"NZWO1b\"><img alt=\"\" class=\"yWs4tf\" src=\"https://encrypted-tbn0.gstatic.com/images?q=tbn:ANd9GcQCfkyyXvEcnRtcJK8pjwyUIUlRY2u0Dc29_uLZWlfkNwlm4eScqvZgTCz0w7I&amp;s\"/></div></a></td></tr><tr><td><a href=\"/url?q=https://m.timesofindia.com/sports/cricket/india-in-west-indies/india-vs-west-indies-irked-rohit-sharma-dismisses-concern-over-virat-kohlis-overseas-test-form-as-outside-talks/articleshow/102161934.cms&amp;sa=U&amp;ved=2ahUKEwjJ1PLM0rWAAxWogFYBHa__Dt0Qr4kDegQIEhAC&amp;usg=AOvVaw3DBSKLHKZoRLWwSuhLPQZM\"><div class=\"jB2rPd\"> <span class=\"qXLe6d x3G5ab\"> <span class=\"fYyStc\">India vs West Indies: Irked...</span> </span> <span class=\"qXLe6d F9iS2e\"> <span class=\"fYyStc\">m.timesofindia.com</span> </span> </div></a></td></tr></table></div></div> </div> </div></td><td align=\"center\" class=\"e3goi\"><div class=\"mnTahd\"> <div> <div class=\"lIMUZd\"><div><table class=\"IkMU6e\"><tr><td><a href=\"/url?q=https://www.zeebiz.com/web-stories/trending/sports/sachin-tendulkar-vs-virat-kohli-records-after-500-international-matches-runs-100s-50s-average-1690300926080&amp;sa=U&amp;ved=2ahUKEwjJ1PLM0rWAAxWogFYBHa__Dt0QqoUBegQIDhAB&amp;usg=AOvVaw0zXKu1FtzmbJREAEQU_xNt\"><div class=\"NZWO1b\"><img alt=\"\" class=\"yWs4tf\" src=\"https://encrypted-tbn0.gstatic.com/images?q=tbn:ANd9GcSDzghEWlDVR4HINdcej04lBxbi1aoTL_CPHZh2TfFntrG95uCrdJ1ObDS4cA&amp;s\"/></div></a></td></tr><tr><td><a href=\"/url?q=https://www.zeebiz.com/web-stories/trending/sports/sachin-tendulkar-vs-virat-kohli-records-after-500-international-matches-runs-100s-50s-average-1690300926080&amp;sa=U&amp;ved=2ahUKEwjJ1PLM0rWAAxWogFYBHa__Dt0Qr4kDegQIDhAC&amp;usg=AOvVaw0lCdJvbS_LxA_7n348u7nL\"><div class=\"jB2rPd\"> <span class=\"qXLe6d x3G5ab\"> <span class=\"fYyStc\">Virat Kohli vs Sachin...</span> </span> <span class=\"qXLe6d F9iS2e\"> <span class=\"fYyStc\">www.zeebiz.com</span> </span> </div></a></td></tr></table></div></div> </div> </div></td></tr><tr><td align=\"center\" class=\"e3goi\"><div class=\"mnTahd\"> <div> <div class=\"lIMUZd\"><div><table class=\"IkMU6e\"><tr><td><a href=\"/url?q=https://www.dnaindia.com/technology/report-virat-kohli-uses-rs-20000-apple-earbuds-that-aren-t-available-in-india-not-apple-airpods-pro-3053376&amp;sa=U&amp;ved=2ahUKEwjJ1PLM0rWAAxWogFYBHa__Dt0QqoUBegQIDxAB&amp;usg=AOvVaw2Q8razERYAeuEa2aZ306kh\"><div class=\"NZWO1b\"><img alt=\"\" class=\"yWs4tf\" src=\"https://encrypted-tbn0.gstatic.com/images?q=tbn:ANd9GcRZJo33H9n0_WI5mo6qPjFFxMNOnC6gKTatQcX4aVQVlSZDmBsXBdfl3W__mw&amp;s\"/></div></a></td></tr><tr><td><a href=\"/url?q=https://www.dnaindia.com/technology/report-virat-kohli-uses-rs-20000-apple-earbuds-that-aren-t-available-in-india-not-apple-airpods-pro-3053376&amp;sa=U&amp;ved=2ahUKEwjJ1PLM0rWAAxWogFYBHa__Dt0Qr4kDegQIDxAC&amp;usg=AOvVaw0v2Gsqnr3GawVxwVr7VgGn\"><div class=\"jB2rPd\"> <span class=\"qXLe6d x3G5ab\"> <span class=\"fYyStc\">Virat Kohli uses Rs 20,000...</span> </span> <span class=\"qXLe6d F9iS2e\"> <span class=\"fYyStc\">www.dnaindia.com</span> </span> </div></a></td></tr></table></div></div> </div> </div></td><td align=\"center\" class=\"e3goi\"><div class=\"mnTahd\"> <div> <div class=\"lIMUZd\"><div><table class=\"IkMU6e\"><tr><td><a href=\"/url?q=https://www.timesnownews.com/viral/virat-kohli-doppelganger-fans-mistake-haryana-man-kartik-sharma-lookalike-viral-video-article-102196424&amp;sa=U&amp;ved=2ahUKEwjJ1PLM0rWAAxWogFYBHa__Dt0QqoUBegQIERAB&amp;usg=AOvVaw087Z402apdAa97Qq4O59xO\"><div class=\"NZWO1b\"><img alt=\"\" class=\"yWs4tf\" src=\"https://encrypted-tbn0.gstatic.com/images?q=tbn:ANd9GcRxlnSKBB-rt4QOMMJQGrXOOsqG6yPbmCwEqBEqHkkvt8AV2DTnkCMAHsro4qc&amp;s\"/></div></a></td></tr><tr><td><a href=\"/url?q=https://www.timesnownews.com/viral/virat-kohli-doppelganger-fans-mistake-haryana-man-kartik-sharma-lookalike-viral-video-article-102196424&amp;sa=U&amp;ved=2ahUKEwjJ1PLM0rWAAxWogFYBHa__Dt0Qr4kDegQIERAC&amp;usg=AOvVaw3F9Avd3zCpUyYduhYY5uSP\"><div class=\"jB2rPd\"> <span class=\"qXLe6d x3G5ab\"> <span class=\"fYyStc\">Doppelganger Alert! Fans...</span> </span> <span class=\"qXLe6d F9iS2e\"> <span class=\"fYyStc\">www.timesnownews.com</span> </span> </div></a></td></tr></table></div></div> </div> </div></td><td align=\"center\" class=\"e3goi\"><div class=\"mnTahd\"> <div> <div class=\"lIMUZd\"><div><table class=\"IkMU6e\"><tr><td><a href=\"/url?q=https://sports.ndtv.com/cricket/virat-kohli-once-apologised-thrice-to-zaheer-khan-during-one-game-ishant-sharma-reveals-why-4239925&amp;sa=U&amp;ved=2ahUKEwjJ1PLM0rWAAxWogFYBHa__Dt0QqoUBegQIDRAB&amp;usg=AOvVaw1yXkSUl9z-sMerMuynOjxv\"><div class=\"NZWO1b\"><img alt=\"\" class=\"yWs4tf\" src=\"https://encrypted-tbn0.gstatic.com/images?q=tbn:ANd9GcTQisRy9KKPpaR789gUkso2hXdR_nmiUys7sAz5OBHssfxQcCNVOkVb8LmRZQ&amp;s\"/></div></a></td></tr><tr><td><a href=\"/url?q=https://sports.ndtv.com/cricket/virat-kohli-once-apologised-thrice-to-zaheer-khan-during-one-game-ishant-sharma-reveals-why-4239925&amp;sa=U&amp;ved=2ahUKEwjJ1PLM0rWAAxWogFYBHa__Dt0Qr4kDegQIDRAC&amp;usg=AOvVaw34E83BwPgXUZwCkTlsY-p9\"><div class=\"jB2rPd\"> <span class=\"qXLe6d x3G5ab\"> <span class=\"fYyStc\">Virat Kohli Once Apologised...</span> </span> <span class=\"qXLe6d F9iS2e\"> <span class=\"fYyStc\">sports.ndtv.com</span> </span> </div></a></td></tr></table></div></div> </div> </div></td><td align=\"center\" class=\"e3goi\"><div class=\"mnTahd\"> <div> <div class=\"lIMUZd\"><div><table class=\"IkMU6e\"><tr><td><a href=\"/url?q=https://www.timesnownews.com/web-stories/sports/sachin-records-that-virat-kohli-can-break-before-he-retires/photostory/102181721.cms&amp;sa=U&amp;ved=2ahUKEwjJ1PLM0rWAAxWogFYBHa__Dt0QqoUBegQIEBAB&amp;usg=AOvVaw1dDTZE0n9rS3RMgSgSM6Cl\"><div class=\"NZWO1b\"><img alt=\"\" class=\"yWs4tf\" src=\"https://encrypted-tbn0.gstatic.com/images?q=tbn:ANd9GcRaA9tOiDkcFIEnon99DX1fCf3rtk0yCtEm3i8iC5SYFS66OmKNWNI0vaQKTg&amp;s\"/></div></a></td></tr><tr><td><a href=\"/url?q=https://www.timesnownews.com/web-stories/sports/sachin-records-that-virat-kohli-can-break-before-he-retires/photostory/102181721.cms&amp;sa=U&amp;ved=2ahUKEwjJ1PLM0rWAAxWogFYBHa__Dt0Qr4kDegQIEBAC&amp;usg=AOvVaw2Lg59VFSjzLcDVVIu4WTP4\"><div class=\"jB2rPd\"> <span class=\"qXLe6d x3G5ab\"> <span class=\"fYyStc\">Sachin's records that Virat...</span> </span> <span class=\"qXLe6d F9iS2e\"> <span class=\"fYyStc\">www.timesnownews.com</span> </span> </div></a></td></tr></table></div></div> </div> </div></td></tr><tr><td align=\"center\" class=\"e3goi\"><div class=\"mnTahd\"> <div> <div class=\"lIMUZd\"><div><table class=\"IkMU6e\"><tr><td><a href=\"/url?q=https://www.forbes.com/profile/virat-kohli/&amp;sa=U&amp;ved=2ahUKEwjJ1PLM0rWAAxWogFYBHa__Dt0QqoUBegQIChAB&amp;usg=AOvVaw1JcYNM6-tlnKOVJGNQpcCB\"><div class=\"NZWO1b\"><img alt=\"\" class=\"yWs4tf\" src=\"https://encrypted-tbn0.gstatic.com/images?q=tbn:ANd9GcQXhRozPeN_ofFzgMvQcHZvcplv3EpOrLtmrSnBG88kwoJo8RFn0Ev3aLykTYA&amp;s\"/></div></a></td></tr><tr><td><a href=\"/url?q=https://www.forbes.com/profile/virat-kohli/&amp;sa=U&amp;ved=2ahUKEwjJ1PLM0rWAAxWogFYBHa__Dt0Qr4kDegQIChAC&amp;usg=AOvVaw3YYvzLajl9Wv8jkv6tsESC\"><div class=\"jB2rPd\"> <span class=\"qXLe6d x3G5ab\"> <span class=\"fYyStc\">0x0.jpg?format=jpg&amp;crop=233...</span> </span> <span class=\"qXLe6d F9iS2e\"> <span class=\"fYyStc\">www.forbes.com</span> </span> </div></a></td></tr></table></div></div> </div> </div></td><td align=\"center\" class=\"e3goi\"><div class=\"mnTahd\"> <div> <div class=\"lIMUZd\"><div><table class=\"IkMU6e\"><tr><td><a href=\"/url?q=https://timesofindia.indiatimes.com/sports/cricket/india-in-bangladesh/virat-kohli-slams-72nd-international-ton-surpasses-ricky-ponting-to-go-second-behind-sachin-tendulkar/articleshow/96131593.cms&amp;sa=U&amp;ved=2ahUKEwjJ1PLM0rWAAxWogFYBHa__Dt0QqoUBegQICxAB&amp;usg=AOvVaw1ek_5Tve7uMQoRWRsDeoBD\"><div class=\"NZWO1b\"><img alt=\"\" class=\"yWs4tf\" src=\"https://encrypted-tbn0.gstatic.com/images?q=tbn:ANd9GcR3ZFK0A4umNXAAYD4om18k3x2BgBYqPuIywILpy7ckkNFY6U2shFp4v0czbQ&amp;s\"/></div></a></td></tr><tr><td><a href=\"/url?q=https://timesofindia.indiatimes.com/sports/cricket/india-in-bangladesh/virat-kohli-slams-72nd-international-ton-surpasses-ricky-ponting-to-go-second-behind-sachin-tendulkar/articleshow/96131593.cms&amp;sa=U&amp;ved=2ahUKEwjJ1PLM0rWAAxWogFYBHa__Dt0Qr4kDegQICxAC&amp;usg=AOvVaw1hqHv-uEcDmg3Gj8umM2Dn\"><div class=\"jB2rPd\"> <span class=\"qXLe6d x3G5ab\"> <span class=\"fYyStc\">Virat Kohli slams 72nd...</span> </span> <span class=\"qXLe6d F9iS2e\"> <span class=\"fYyStc\">timesofindia.indiatimes.com...</span> </span> </div></a></td></tr></table></div></div> </div> </div></td><td align=\"center\" class=\"e3goi\"><div class=\"mnTahd\"> <div> <div class=\"lIMUZd\"><div><table class=\"IkMU6e\"><tr><td><a href=\"/url?q=https://www.news18.com/cricketnext/news/ipl-15-kevin-pietersen-feels-virat-kohli-will-need-more-games-to-find-his-feet-5015473.html&amp;sa=U&amp;ved=2ahUKEwjJ1PLM0rWAAxWogFYBHa__Dt0QqoUBegQIDBAB&amp;usg=AOvVaw1nDSqyJdJRcSMKl-o8wcba\"><div class=\"NZWO1b\"><img alt=\"\" class=\"yWs4tf\" src=\"https://encrypted-tbn0.gstatic.com/images?q=tbn:ANd9GcRyORR6g-FRNLSsZLxHhLsjx6xjtP4sbgIKTK-T_EGpjrhODo7joT6mfR0A1ek&amp;s\"/></div></a></td></tr><tr><td><a href=\"/url?q=https://www.news18.com/cricketnext/news/ipl-15-kevin-pietersen-feels-virat-kohli-will-need-more-games-to-find-his-feet-5015473.html&amp;sa=U&amp;ved=2ahUKEwjJ1PLM0rWAAxWogFYBHa__Dt0Qr4kDegQIDBAC&amp;usg=AOvVaw1c-b1jq5xMQozclD0i4i4y\"><div class=\"jB2rPd\"> <span class=\"qXLe6d x3G5ab\"> <span class=\"fYyStc\">IPL 15: Kevin Pietersen...</span> </span> <span class=\"qXLe6d F9iS2e\"> <span class=\"fYyStc\">www.news18.com</span> </span> </div></a></td></tr></table></div></div> </div> </div></td><td align=\"center\" class=\"e3goi\"><div class=\"mnTahd\"> <div> <div class=\"lIMUZd\"><div><table class=\"IkMU6e\"><tr><td><a href=\"/url?q=https://www.indiatoday.in/sports/cricket/story/india-world-cup-2023-virat-kohli-virender-sehwag-schedule-announcement-2398542-2023-06-27&amp;sa=U&amp;ved=2ahUKEwjJ1PLM0rWAAxWogFYBHa__Dt0QqoUBegQICRAB&amp;usg=AOvVaw2lqoSVSxLo_sOKetnH5xZF\"><div class=\"NZWO1b\"><img alt=\"\" class=\"yWs4tf\" src=\"https://encrypted-tbn0.gstatic.com/images?q=tbn:ANd9GcT31MU-l5iezqCLOPE2jeiBB0geQsn8njIF0T290gdxybDBKMJOC5V1jM9QAg&amp;s\"/></div></a></td></tr><tr><td><a href=\"/url?q=https://www.indiatoday.in/sports/cricket/story/india-world-cup-2023-virat-kohli-virender-sehwag-schedule-announcement-2398542-2023-06-27&amp;sa=U&amp;ved=2ahUKEwjJ1PLM0rWAAxWogFYBHa__Dt0Qr4kDegQICRAC&amp;usg=AOvVaw1trvn-YQjVKsN-6csfwyMp\"><div class=\"jB2rPd\"> <span class=\"qXLe6d x3G5ab\"> <span class=\"fYyStc\">India would want to win the...</span> </span> <span class=\"qXLe6d F9iS2e\"> <span class=\"fYyStc\">www.indiatoday.in</span> </span> </div></a></td></tr></table></div></div> </div> </div></td></tr><tr><td align=\"center\" class=\"e3goi\"><div class=\"mnTahd\"> <div> <div class=\"lIMUZd\"><div><table class=\"IkMU6e\"><tr><td><a href=\"/url?q=https://www.news18.com/cricketnext/virat-kohli-catch-ravindra-jadeja-ind-vs-wi-odi-witty-remark-stunner-kuldeep-yadav-bcci-8444713.html&amp;sa=U&amp;ved=2ahUKEwjJ1PLM0rWAAxWogFYBHa__Dt0QqoUBegQIBxAB&amp;usg=AOvVaw3-p0lm9cR_33uS7oqKX5TW\"><div class=\"NZWO1b\"><img alt=\"\" class=\"yWs4tf\" src=\"https://encrypted-tbn0.gstatic.com/images?q=tbn:ANd9GcSMJqoYKnZTKlkFdcfNNAJJxMnQr_8MRPZkOKH0Vuc68Zy_ZEgoncXEjQGhl9E&amp;s\"/></div></a></td></tr><tr><td><a href=\"/url?q=https://www.news18.com/cricketnext/virat-kohli-catch-ravindra-jadeja-ind-vs-wi-odi-witty-remark-stunner-kuldeep-yadav-bcci-8444713.html&amp;sa=U&amp;ved=2ahUKEwjJ1PLM0rWAAxWogFYBHa__Dt0Qr4kDegQIBxAC&amp;usg=AOvVaw1gE0b_uXT1vY-yr7FP1-Lg\"><div class=\"jB2rPd\"> <span class=\"qXLe6d x3G5ab\"> <span class=\"fYyStc\">Generally I Take Such...</span> </span> <span class=\"qXLe6d F9iS2e\"> <span class=\"fYyStc\">www.news18.com</span> </span> </div></a></td></tr></table></div></div> </div> </div></td><td align=\"center\" class=\"e3goi\"><div class=\"mnTahd\"> <div> <div class=\"lIMUZd\"><div><table class=\"IkMU6e\"><tr><td><a href=\"/url?q=https://mobcup.net/wallpapers/virat-kohli-hd&amp;sa=U&amp;ved=2ahUKEwjJ1PLM0rWAAxWogFYBHa__Dt0QqoUBegQIBRAB&amp;usg=AOvVaw1-ZTU1Y3Tmqj74Psg1N57a\"><div class=\"NZWO1b\"><img alt=\"\" class=\"yWs4tf\" src=\"https://encrypted-tbn0.gstatic.com/images?q=tbn:ANd9GcS8KTiPsdIdv6tCZuf-oRwHoP4zesJHEmjSw7cAb2DxIRKzl8eI7bxEupbJGQI&amp;s\"/></div></a></td></tr><tr><td><a href=\"/url?q=https://mobcup.net/wallpapers/virat-kohli-hd&amp;sa=U&amp;ved=2ahUKEwjJ1PLM0rWAAxWogFYBHa__Dt0Qr4kDegQIBRAC&amp;usg=AOvVaw2anE_mKa-O-gSAXEZ0UK-Y\"><div class=\"jB2rPd\"> <span class=\"qXLe6d x3G5ab\"> <span class=\"fYyStc\">Virat kohli hd Wallpapers...</span> </span> <span class=\"qXLe6d F9iS2e\"> <span class=\"fYyStc\">mobcup.net</span> </span> </div></a></td></tr></table></div></div> </div> </div></td><td align=\"center\" class=\"e3goi\"><div class=\"mnTahd\"> <div> <div class=\"lIMUZd\"><div><table class=\"IkMU6e\"><tr><td><a href=\"/url?q=https://www.dnaindia.com/web-stories/sports/cricket/virat-kohli-to-ms-dhoni-check-educational-qualification-of-indian-cricketers-1690649303067&amp;sa=U&amp;ved=2ahUKEwjJ1PLM0rWAAxWogFYBHa__Dt0QqoUBegQIBBAB&amp;usg=AOvVaw11oHt7xUEE66elTen7TK9J\"><div class=\"NZWO1b\"><img alt=\"\" class=\"yWs4tf\" src=\"https://encrypted-tbn0.gstatic.com/images?q=tbn:ANd9GcS_0zjgzoqeGx4D_kjYWU6TnsS9XpT_nz-c2dLfeZ1_0bksodxtMXjWIfp1JQ&amp;s\"/></div></a></td></tr><tr><td><a href=\"/url?q=https://www.dnaindia.com/web-stories/sports/cricket/virat-kohli-to-ms-dhoni-check-educational-qualification-of-indian-cricketers-1690649303067&amp;sa=U&amp;ved=2ahUKEwjJ1PLM0rWAAxWogFYBHa__Dt0Qr4kDegQIBBAC&amp;usg=AOvVaw1vN2K-1hWo2dkmz0AZ2G4s\"><div class=\"jB2rPd\"> <span class=\"qXLe6d x3G5ab\"> <span class=\"fYyStc\">Virat Kohli to MS Dhoni:...</span> </span> <span class=\"qXLe6d F9iS2e\"> <span class=\"fYyStc\">www.dnaindia.com</span> </span> </div></a></td></tr></table></div></div> </div> </div></td><td align=\"center\" class=\"e3goi\"><div class=\"mnTahd\"> <div> <div class=\"lIMUZd\"><div><table class=\"IkMU6e\"><tr><td><a href=\"/url?q=https://www.youtube.com/watch%3Fv%3DjkaBPZ5RqYY&amp;sa=U&amp;ved=2ahUKEwjJ1PLM0rWAAxWogFYBHa__Dt0QqoUBegQIAxAB&amp;usg=AOvVaw2vjvYlUxyIYjFBQyRmLwYk\"><div class=\"NZWO1b\"><img alt=\"\" class=\"yWs4tf\" src=\"https://encrypted-tbn0.gstatic.com/images?q=tbn:ANd9GcSKkwzHFS4U0kvua9XC479QiQtxjGnoqlcQSEqrJwo8MQZ8b3LFZ0LIBrW5iHg&amp;s\"/></div></a></td></tr><tr><td><a href=\"/url?q=https://www.youtube.com/watch%3Fv%3DjkaBPZ5RqYY&amp;sa=U&amp;ved=2ahUKEwjJ1PLM0rWAAxWogFYBHa__Dt0Qr4kDegQIAxAC&amp;usg=AOvVaw0ZybqRODQeZ8vkwf8Sxd8D\"><div class=\"jB2rPd\"> <span class=\"qXLe6d x3G5ab\"> <span class=\"fYyStc\">I Really Enjoyed Myself Out...</span> </span> <span class=\"qXLe6d F9iS2e\"> <span class=\"fYyStc\">www.youtube.com</span> </span> </div></a></td></tr></table></div></div> </div> </div></td></tr><tr><td align=\"center\" class=\"e3goi\"><div class=\"mnTahd\"> <div> <div class=\"lIMUZd\"><div><table class=\"IkMU6e\"><tr><td><a href=\"/url?q=https://nationaltoday.com/birthday/virat-kohli/&amp;sa=U&amp;ved=2ahUKEwjJ1PLM0rWAAxWogFYBHa__Dt0QqoUBegQICBAB&amp;usg=AOvVaw2n38fJl6UeOoRjvDc-wNr-\"><div class=\"NZWO1b\"><img alt=\"\" class=\"yWs4tf\" src=\"https://encrypted-tbn0.gstatic.com/images?q=tbn:ANd9GcRLqGxMbCeVkZIDV3mQfmlpSxuBcW4YTlZBp78_utfaZ7ACU-1GI0fyT3cQVA&amp;s\"/></div></a></td></tr><tr><td><a href=\"/url?q=https://nationaltoday.com/birthday/virat-kohli/&amp;sa=U&amp;ved=2ahUKEwjJ1PLM0rWAAxWogFYBHa__Dt0Qr4kDegQICBAC&amp;usg=AOvVaw1YRrO5S96a7YIx3l2peXN-\"><div class=\"jB2rPd\"> <span class=\"qXLe6d x3G5ab\"> <span class=\"fYyStc\">Virat Kohli - Age, Bio,...</span> </span> <span class=\"qXLe6d F9iS2e\"> <span class=\"fYyStc\">nationaltoday.com</span> </span> </div></a></td></tr></table></div></div> </div> </div></td><td align=\"center\" class=\"e3goi\"><div class=\"mnTahd\"> <div> <div class=\"lIMUZd\"><div><table class=\"IkMU6e\"><tr><td><a href=\"/url?q=https://english.jagran.com/cricket/only-way-to-make-sense-out-of-change-virat-kohli-post-another-cryptic-story-post-wtc-final-loss-10082847&amp;sa=U&amp;ved=2ahUKEwjJ1PLM0rWAAxWogFYBHa__Dt0QqoUBegQIAhAB&amp;usg=AOvVaw23RFtSt22rCxogxiH4LNNw\"><div class=\"NZWO1b\"><img alt=\"\" class=\"yWs4tf\" src=\"https://encrypted-tbn0.gstatic.com/images?q=tbn:ANd9GcRGYkG5ICR8iRwn42yp2Da-6lzhYbfwoAAIk4KKLlZMlPuP4czNJSzqEMO_HI0&amp;s\"/></div></a></td></tr><tr><td><a href=\"/url?q=https://english.jagran.com/cricket/only-way-to-make-sense-out-of-change-virat-kohli-post-another-cryptic-story-post-wtc-final-loss-10082847&amp;sa=U&amp;ved=2ahUKEwjJ1PLM0rWAAxWogFYBHa__Dt0Qr4kDegQIAhAC&amp;usg=AOvVaw1Kcb5fynyYJPmYBU3rzW4B\"><div class=\"jB2rPd\"> <span class=\"qXLe6d x3G5ab\"> <span class=\"fYyStc\">Virat Kohli Posts Another...</span> </span> <span class=\"qXLe6d F9iS2e\"> <span class=\"fYyStc\">english.jagran.com</span> </span> </div></a></td></tr></table></div></div> </div> </div></td><td align=\"center\" class=\"e3goi\"><div class=\"mnTahd\"> <div> <div class=\"lIMUZd\"><div><table class=\"IkMU6e\"><tr><td><a href=\"/url?q=https://m.rediff.com/cricket/report/we-have-got-back-the-original-virat-kohli/20230117.htm&amp;sa=U&amp;ved=2ahUKEwjJ1PLM0rWAAxWogFYBHa__Dt0QqoUBegQIARAB&amp;usg=AOvVaw2OdUiYkph7zD1R0JQ7xiix\"><div class=\"NZWO1b\"><img alt=\"\" class=\"yWs4tf\" src=\"https://encrypted-tbn0.gstatic.com/images?q=tbn:ANd9GcR31yH7qlDziUlJXlHkXWecPZWAX-UXw5HvmxOTVjhraNS4IrYozrED5TWnDQ&amp;s\"/></div></a></td></tr><tr><td><a href=\"/url?q=https://m.rediff.com/cricket/report/we-have-got-back-the-original-virat-kohli/20230117.htm&amp;sa=U&amp;ved=2ahUKEwjJ1PLM0rWAAxWogFYBHa__Dt0Qr4kDegQIARAC&amp;usg=AOvVaw3hYAYGimSBGKRfIzLi-qSL\"><div class=\"jB2rPd\"> <span class=\"qXLe6d x3G5ab\"> <span class=\"fYyStc\">We have got back the...</span> </span> <span class=\"qXLe6d F9iS2e\"> <span class=\"fYyStc\">m.rediff.com</span> </span> </div></a></td></tr></table></div></div> </div> </div></td><td align=\"center\" class=\"e3goi\"><div class=\"mnTahd\"> <div> <div class=\"lIMUZd\"><div><table class=\"IkMU6e\"><tr><td><a href=\"/url?q=https://www.livemint.com/sports/cricket-news/virat-kohli-vs-sachin-tendulkar-all-records-who-is-better-west-indies-legend-curtly-ambrose-says-this-11690356914978.html&amp;sa=U&amp;ved=2ahUKEwjJ1PLM0rWAAxWogFYBHa__Dt0QqoUBegQIABAB&amp;usg=AOvVaw1fF3Cc_JR759i648k0QEsl\"><div class=\"NZWO1b\"><img alt=\"\" class=\"yWs4tf\" src=\"https://encrypted-tbn0.gstatic.com/images?q=tbn:ANd9GcTbLaVUkOldonRMTG3L9injnOpQmQrT-CSrGhPR6CwxhHR7g09Mi7Xhm9HWF1c&amp;s\"/></div></a></td></tr><tr><td><a href=\"/url?q=https://www.livemint.com/sports/cricket-news/virat-kohli-vs-sachin-tendulkar-all-records-who-is-better-west-indies-legend-curtly-ambrose-says-this-11690356914978.html&amp;sa=U&amp;ved=2ahUKEwjJ1PLM0rWAAxWogFYBHa__Dt0Qr4kDegQIABAC&amp;usg=AOvVaw0CP8XZvaN5khbnPpXdswx0\"><div class=\"jB2rPd\"> <span class=\"qXLe6d x3G5ab\"> <span class=\"fYyStc\">Virat Kohli vs Sachin...</span> </span> <span class=\"qXLe6d F9iS2e\"> <span class=\"fYyStc\">www.livemint.com</span> </span> </div></a></td></tr></table></div></div> </div> </div></td></tr></table></div><table class=\"uZgmoc\"><tbody><td><a class=\"frGj1b\" href=\"/search?q=virat+kohli&amp;biw=614&amp;bih=836&amp;ie=UTF-8&amp;tbm=isch&amp;ei=6-3FZImzFqiB2roPr_-76A0&amp;start=20&amp;sa=N\">Next &gt;</a></td></tbody></table><br/><div class=\"TuS8Ad\" data-ved=\"0ahUKEwjJ1PLM0rWAAxWogFYBHa__Dt0QpyoIUg\"><style>.VYM29{font-weight:bold}</style><div align=\"center\" class=\"HddGcc\"><span class=\"VYM29\">Kattankulathur, Tamil Nadu</span><span> - </span><span>From your IP address</span><span> - </span><a href=\"/url?q=https://support.google.com/websearch%3Fp%3Dws_settings_location%26hl%3Den-IN&amp;sa=U&amp;ved=0ahUKEwjJ1PLM0rWAAxWogFYBHa__Dt0Qty4IUw&amp;usg=AOvVaw0h-FUdZqOzUCeKVttYZidc\">Learn more</a></div><div align=\"center\"><a class=\"rEM8G\" href=\"/url?q=https://accounts.google.com/ServiceLogin%3Fcontinue%3Dhttps://www.google.com/search%253Fq%253Dvirat%252Bkohli%2526tbm%253Disch%2526source%253Dlnms%2526sa%253DX%2526ved%253D2ahUKEwjA1_CgyrWAAxXpa2wGHS81ARIQ0pQJegQIDBAB%2526biw%253D614%2526bih%253D836%2526dpr%253D1.25%26hl%3Den&amp;sa=U&amp;ved=0ahUKEwjJ1PLM0rWAAxWogFYBHa__Dt0Qxs8CCFQ&amp;usg=AOvVaw3OhAomM0S5LQsT_p268733\">Sign in</a></div><div><table class=\"bookcf\"><tbody class=\"InWNIe\"><tr><td><a class=\"rEM8G\" href=\"https://www.google.com/preferences?hl=en&amp;sa=X&amp;ved=0ahUKEwjJ1PLM0rWAAxWogFYBHa__Dt0Qv5YECFU\">Settings</a></td><td><a class=\"rEM8G\" href=\"https://www.google.com/intl/en_in/policies/privacy/\">Privacy</a></td><td><a class=\"rEM8G\" href=\"https://www.google.com/intl/en_in/policies/terms/\">Terms</a></td></tr></tbody></table></div></div><div> </div></body></html>"
      ]
     },
     "execution_count": 47,
     "metadata": {},
     "output_type": "execute_result"
    }
   ],
   "source": [
    "soup"
   ]
  },
  {
   "cell_type": "code",
   "execution_count": 48,
   "id": "0c812c33-30a9-4b60-818a-8cb23ef96753",
   "metadata": {},
   "outputs": [
    {
     "data": {
      "text/plain": [
       "[<img alt=\"Google\" class=\"kgJEQe\" src=\"/images/branding/searchlogo/1x/googlelogo_desk_heirloom_color_150x55dp.gif\"/>,\n",
       " <img alt=\"\" class=\"yWs4tf\" src=\"https://encrypted-tbn0.gstatic.com/images?q=tbn:ANd9GcSApOD8cC7Jh33c0VqbcFkcmx0og9wr1DYsD50a8Tp3p-0I33M_SuuLXA0Kizk&amp;s\"/>,\n",
       " <img alt=\"\" class=\"yWs4tf\" src=\"https://encrypted-tbn0.gstatic.com/images?q=tbn:ANd9GcS9C58BNcMmQwtKOOVPr2QxPHvO0WyNIRF5XejM_bsxPzCH1IyGGEB2t2o2tlg&amp;s\"/>,\n",
       " <img alt=\"\" class=\"yWs4tf\" src=\"https://encrypted-tbn0.gstatic.com/images?q=tbn:ANd9GcQCfkyyXvEcnRtcJK8pjwyUIUlRY2u0Dc29_uLZWlfkNwlm4eScqvZgTCz0w7I&amp;s\"/>,\n",
       " <img alt=\"\" class=\"yWs4tf\" src=\"https://encrypted-tbn0.gstatic.com/images?q=tbn:ANd9GcSDzghEWlDVR4HINdcej04lBxbi1aoTL_CPHZh2TfFntrG95uCrdJ1ObDS4cA&amp;s\"/>,\n",
       " <img alt=\"\" class=\"yWs4tf\" src=\"https://encrypted-tbn0.gstatic.com/images?q=tbn:ANd9GcRZJo33H9n0_WI5mo6qPjFFxMNOnC6gKTatQcX4aVQVlSZDmBsXBdfl3W__mw&amp;s\"/>,\n",
       " <img alt=\"\" class=\"yWs4tf\" src=\"https://encrypted-tbn0.gstatic.com/images?q=tbn:ANd9GcRxlnSKBB-rt4QOMMJQGrXOOsqG6yPbmCwEqBEqHkkvt8AV2DTnkCMAHsro4qc&amp;s\"/>,\n",
       " <img alt=\"\" class=\"yWs4tf\" src=\"https://encrypted-tbn0.gstatic.com/images?q=tbn:ANd9GcTQisRy9KKPpaR789gUkso2hXdR_nmiUys7sAz5OBHssfxQcCNVOkVb8LmRZQ&amp;s\"/>,\n",
       " <img alt=\"\" class=\"yWs4tf\" src=\"https://encrypted-tbn0.gstatic.com/images?q=tbn:ANd9GcRaA9tOiDkcFIEnon99DX1fCf3rtk0yCtEm3i8iC5SYFS66OmKNWNI0vaQKTg&amp;s\"/>,\n",
       " <img alt=\"\" class=\"yWs4tf\" src=\"https://encrypted-tbn0.gstatic.com/images?q=tbn:ANd9GcQXhRozPeN_ofFzgMvQcHZvcplv3EpOrLtmrSnBG88kwoJo8RFn0Ev3aLykTYA&amp;s\"/>,\n",
       " <img alt=\"\" class=\"yWs4tf\" src=\"https://encrypted-tbn0.gstatic.com/images?q=tbn:ANd9GcR3ZFK0A4umNXAAYD4om18k3x2BgBYqPuIywILpy7ckkNFY6U2shFp4v0czbQ&amp;s\"/>,\n",
       " <img alt=\"\" class=\"yWs4tf\" src=\"https://encrypted-tbn0.gstatic.com/images?q=tbn:ANd9GcRyORR6g-FRNLSsZLxHhLsjx6xjtP4sbgIKTK-T_EGpjrhODo7joT6mfR0A1ek&amp;s\"/>,\n",
       " <img alt=\"\" class=\"yWs4tf\" src=\"https://encrypted-tbn0.gstatic.com/images?q=tbn:ANd9GcT31MU-l5iezqCLOPE2jeiBB0geQsn8njIF0T290gdxybDBKMJOC5V1jM9QAg&amp;s\"/>,\n",
       " <img alt=\"\" class=\"yWs4tf\" src=\"https://encrypted-tbn0.gstatic.com/images?q=tbn:ANd9GcSMJqoYKnZTKlkFdcfNNAJJxMnQr_8MRPZkOKH0Vuc68Zy_ZEgoncXEjQGhl9E&amp;s\"/>,\n",
       " <img alt=\"\" class=\"yWs4tf\" src=\"https://encrypted-tbn0.gstatic.com/images?q=tbn:ANd9GcS8KTiPsdIdv6tCZuf-oRwHoP4zesJHEmjSw7cAb2DxIRKzl8eI7bxEupbJGQI&amp;s\"/>,\n",
       " <img alt=\"\" class=\"yWs4tf\" src=\"https://encrypted-tbn0.gstatic.com/images?q=tbn:ANd9GcS_0zjgzoqeGx4D_kjYWU6TnsS9XpT_nz-c2dLfeZ1_0bksodxtMXjWIfp1JQ&amp;s\"/>,\n",
       " <img alt=\"\" class=\"yWs4tf\" src=\"https://encrypted-tbn0.gstatic.com/images?q=tbn:ANd9GcSKkwzHFS4U0kvua9XC479QiQtxjGnoqlcQSEqrJwo8MQZ8b3LFZ0LIBrW5iHg&amp;s\"/>,\n",
       " <img alt=\"\" class=\"yWs4tf\" src=\"https://encrypted-tbn0.gstatic.com/images?q=tbn:ANd9GcRLqGxMbCeVkZIDV3mQfmlpSxuBcW4YTlZBp78_utfaZ7ACU-1GI0fyT3cQVA&amp;s\"/>,\n",
       " <img alt=\"\" class=\"yWs4tf\" src=\"https://encrypted-tbn0.gstatic.com/images?q=tbn:ANd9GcRGYkG5ICR8iRwn42yp2Da-6lzhYbfwoAAIk4KKLlZMlPuP4czNJSzqEMO_HI0&amp;s\"/>,\n",
       " <img alt=\"\" class=\"yWs4tf\" src=\"https://encrypted-tbn0.gstatic.com/images?q=tbn:ANd9GcR31yH7qlDziUlJXlHkXWecPZWAX-UXw5HvmxOTVjhraNS4IrYozrED5TWnDQ&amp;s\"/>,\n",
       " <img alt=\"\" class=\"yWs4tf\" src=\"https://encrypted-tbn0.gstatic.com/images?q=tbn:ANd9GcTbLaVUkOldonRMTG3L9injnOpQmQrT-CSrGhPR6CwxhHR7g09Mi7Xhm9HWF1c&amp;s\"/>]"
      ]
     },
     "execution_count": 48,
     "metadata": {},
     "output_type": "execute_result"
    }
   ],
   "source": [
    "soup.find_all(\"img\")"
   ]
  },
  {
   "cell_type": "code",
   "execution_count": 49,
   "id": "1de46596-08bd-4009-8c8a-b7d9722b123a",
   "metadata": {},
   "outputs": [],
   "source": [
    "img_tags = soup.find_all(\"img\")"
   ]
  },
  {
   "cell_type": "code",
   "execution_count": 50,
   "id": "ccdadab3-0911-4026-8f16-46ca4ea1ec20",
   "metadata": {},
   "outputs": [],
   "source": [
    "del img_tags[0]"
   ]
  },
  {
   "cell_type": "code",
   "execution_count": 51,
   "id": "83734b07-d83d-4469-9056-c388e4a232d4",
   "metadata": {},
   "outputs": [
    {
     "data": {
      "text/plain": [
       "[<img alt=\"\" class=\"yWs4tf\" src=\"https://encrypted-tbn0.gstatic.com/images?q=tbn:ANd9GcSApOD8cC7Jh33c0VqbcFkcmx0og9wr1DYsD50a8Tp3p-0I33M_SuuLXA0Kizk&amp;s\"/>,\n",
       " <img alt=\"\" class=\"yWs4tf\" src=\"https://encrypted-tbn0.gstatic.com/images?q=tbn:ANd9GcS9C58BNcMmQwtKOOVPr2QxPHvO0WyNIRF5XejM_bsxPzCH1IyGGEB2t2o2tlg&amp;s\"/>,\n",
       " <img alt=\"\" class=\"yWs4tf\" src=\"https://encrypted-tbn0.gstatic.com/images?q=tbn:ANd9GcQCfkyyXvEcnRtcJK8pjwyUIUlRY2u0Dc29_uLZWlfkNwlm4eScqvZgTCz0w7I&amp;s\"/>,\n",
       " <img alt=\"\" class=\"yWs4tf\" src=\"https://encrypted-tbn0.gstatic.com/images?q=tbn:ANd9GcSDzghEWlDVR4HINdcej04lBxbi1aoTL_CPHZh2TfFntrG95uCrdJ1ObDS4cA&amp;s\"/>,\n",
       " <img alt=\"\" class=\"yWs4tf\" src=\"https://encrypted-tbn0.gstatic.com/images?q=tbn:ANd9GcRZJo33H9n0_WI5mo6qPjFFxMNOnC6gKTatQcX4aVQVlSZDmBsXBdfl3W__mw&amp;s\"/>,\n",
       " <img alt=\"\" class=\"yWs4tf\" src=\"https://encrypted-tbn0.gstatic.com/images?q=tbn:ANd9GcRxlnSKBB-rt4QOMMJQGrXOOsqG6yPbmCwEqBEqHkkvt8AV2DTnkCMAHsro4qc&amp;s\"/>,\n",
       " <img alt=\"\" class=\"yWs4tf\" src=\"https://encrypted-tbn0.gstatic.com/images?q=tbn:ANd9GcTQisRy9KKPpaR789gUkso2hXdR_nmiUys7sAz5OBHssfxQcCNVOkVb8LmRZQ&amp;s\"/>,\n",
       " <img alt=\"\" class=\"yWs4tf\" src=\"https://encrypted-tbn0.gstatic.com/images?q=tbn:ANd9GcRaA9tOiDkcFIEnon99DX1fCf3rtk0yCtEm3i8iC5SYFS66OmKNWNI0vaQKTg&amp;s\"/>,\n",
       " <img alt=\"\" class=\"yWs4tf\" src=\"https://encrypted-tbn0.gstatic.com/images?q=tbn:ANd9GcQXhRozPeN_ofFzgMvQcHZvcplv3EpOrLtmrSnBG88kwoJo8RFn0Ev3aLykTYA&amp;s\"/>,\n",
       " <img alt=\"\" class=\"yWs4tf\" src=\"https://encrypted-tbn0.gstatic.com/images?q=tbn:ANd9GcR3ZFK0A4umNXAAYD4om18k3x2BgBYqPuIywILpy7ckkNFY6U2shFp4v0czbQ&amp;s\"/>,\n",
       " <img alt=\"\" class=\"yWs4tf\" src=\"https://encrypted-tbn0.gstatic.com/images?q=tbn:ANd9GcRyORR6g-FRNLSsZLxHhLsjx6xjtP4sbgIKTK-T_EGpjrhODo7joT6mfR0A1ek&amp;s\"/>,\n",
       " <img alt=\"\" class=\"yWs4tf\" src=\"https://encrypted-tbn0.gstatic.com/images?q=tbn:ANd9GcT31MU-l5iezqCLOPE2jeiBB0geQsn8njIF0T290gdxybDBKMJOC5V1jM9QAg&amp;s\"/>,\n",
       " <img alt=\"\" class=\"yWs4tf\" src=\"https://encrypted-tbn0.gstatic.com/images?q=tbn:ANd9GcSMJqoYKnZTKlkFdcfNNAJJxMnQr_8MRPZkOKH0Vuc68Zy_ZEgoncXEjQGhl9E&amp;s\"/>,\n",
       " <img alt=\"\" class=\"yWs4tf\" src=\"https://encrypted-tbn0.gstatic.com/images?q=tbn:ANd9GcS8KTiPsdIdv6tCZuf-oRwHoP4zesJHEmjSw7cAb2DxIRKzl8eI7bxEupbJGQI&amp;s\"/>,\n",
       " <img alt=\"\" class=\"yWs4tf\" src=\"https://encrypted-tbn0.gstatic.com/images?q=tbn:ANd9GcS_0zjgzoqeGx4D_kjYWU6TnsS9XpT_nz-c2dLfeZ1_0bksodxtMXjWIfp1JQ&amp;s\"/>,\n",
       " <img alt=\"\" class=\"yWs4tf\" src=\"https://encrypted-tbn0.gstatic.com/images?q=tbn:ANd9GcSKkwzHFS4U0kvua9XC479QiQtxjGnoqlcQSEqrJwo8MQZ8b3LFZ0LIBrW5iHg&amp;s\"/>,\n",
       " <img alt=\"\" class=\"yWs4tf\" src=\"https://encrypted-tbn0.gstatic.com/images?q=tbn:ANd9GcRLqGxMbCeVkZIDV3mQfmlpSxuBcW4YTlZBp78_utfaZ7ACU-1GI0fyT3cQVA&amp;s\"/>,\n",
       " <img alt=\"\" class=\"yWs4tf\" src=\"https://encrypted-tbn0.gstatic.com/images?q=tbn:ANd9GcRGYkG5ICR8iRwn42yp2Da-6lzhYbfwoAAIk4KKLlZMlPuP4czNJSzqEMO_HI0&amp;s\"/>,\n",
       " <img alt=\"\" class=\"yWs4tf\" src=\"https://encrypted-tbn0.gstatic.com/images?q=tbn:ANd9GcR31yH7qlDziUlJXlHkXWecPZWAX-UXw5HvmxOTVjhraNS4IrYozrED5TWnDQ&amp;s\"/>,\n",
       " <img alt=\"\" class=\"yWs4tf\" src=\"https://encrypted-tbn0.gstatic.com/images?q=tbn:ANd9GcTbLaVUkOldonRMTG3L9injnOpQmQrT-CSrGhPR6CwxhHR7g09Mi7Xhm9HWF1c&amp;s\"/>]"
      ]
     },
     "execution_count": 51,
     "metadata": {},
     "output_type": "execute_result"
    }
   ],
   "source": [
    "img_tags"
   ]
  },
  {
   "cell_type": "code",
   "execution_count": 52,
   "id": "98cb7ed1-5e30-4787-a002-a2e2f757cb65",
   "metadata": {},
   "outputs": [
    {
     "data": {
      "text/plain": [
       "20"
      ]
     },
     "execution_count": 52,
     "metadata": {},
     "output_type": "execute_result"
    }
   ],
   "source": [
    "len(img_tags)"
   ]
  },
  {
   "cell_type": "code",
   "execution_count": 53,
   "id": "28c0a357-8c56-4297-8198-b5152b154cac",
   "metadata": {},
   "outputs": [
    {
     "ename": "SyntaxError",
     "evalue": "invalid syntax (1134645581.py, line 1)",
     "output_type": "error",
     "traceback": [
      "\u001b[1;36m  Cell \u001b[1;32mIn[53], line 1\u001b[1;36m\u001b[0m\n\u001b[1;33m    requests.get(https://encrypted-tbn0.gstatic.com/images?q=tbn:ANd9GcQY_R5NSNoZkSlMo3hf86COGJ4fCv0s6Nx4k8uCGkWc6YGOn_m4-rIOQ3GhOhg&s).content\u001b[0m\n\u001b[1;37m                      ^\u001b[0m\n\u001b[1;31mSyntaxError\u001b[0m\u001b[1;31m:\u001b[0m invalid syntax\n"
     ]
    }
   ],
   "source": [
    "requests.get(https://encrypted-tbn0.gstatic.com/images?q=tbn:ANd9GcQY_R5NSNoZkSlMo3hf86COGJ4fCv0s6Nx4k8uCGkWc6YGOn_m4-rIOQ3GhOhg&s).content"
   ]
  },
  {
   "cell_type": "code",
   "execution_count": 54,
   "id": "ec26ef93-d7b7-4f7f-8912-3aa20f3cb53a",
   "metadata": {},
   "outputs": [],
   "source": [
    "save_dir = \"images/\"\n",
    "if not os.path.exists(save_dir):\n",
    "    os.makedirs(save_dir)\n",
    "    "
   ]
  },
  {
   "cell_type": "code",
   "execution_count": 55,
   "id": "513bfd8d-5751-43f4-b03c-51f8798e3c16",
   "metadata": {},
   "outputs": [],
   "source": [
    "for i in img_tags:\n",
    "    img_url = i['src']\n",
    "    imag_data = requests.get(img_url).content\n",
    "    with open(os.path.join(save_dir,f\"{query}_{img_tags.index(i)}.jpg\"),\"wb\") as f:\n",
    "        f.write(imag_data)"
   ]
  },
  {
   "cell_type": "code",
   "execution_count": null,
   "id": "33bbb2f3-1935-477d-8682-69b8d00c862f",
   "metadata": {},
   "outputs": [],
   "source": []
  },
  {
   "cell_type": "code",
   "execution_count": null,
   "id": "3c7bc9a2-11a7-4c98-ac9a-5cfb18ce5b82",
   "metadata": {},
   "outputs": [],
   "source": []
  }
 ],
 "metadata": {
  "kernelspec": {
   "display_name": "Python 3 (ipykernel)",
   "language": "python",
   "name": "python3"
  },
  "language_info": {
   "codemirror_mode": {
    "name": "ipython",
    "version": 3
   },
   "file_extension": ".py",
   "mimetype": "text/x-python",
   "name": "python",
   "nbconvert_exporter": "python",
   "pygments_lexer": "ipython3",
   "version": "3.8.17"
  }
 },
 "nbformat": 4,
 "nbformat_minor": 5
}
